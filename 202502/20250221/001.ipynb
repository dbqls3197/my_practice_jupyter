{
 "cells": [
  {
   "cell_type": "code",
   "execution_count": 50,
   "id": "0187edd5-5832-475e-bcc2-a9ec7f3db9c0",
   "metadata": {},
   "outputs": [],
   "source": [
    "import numpy as np\n",
    "import pandas as pd\n",
    "from tensorflow import keras\n",
    "import matplotlib.pyplot as plt\n",
    "from sklearn.model_selection import train_test_split\n",
    "from sklearn.preprocessing import MinMaxScaler\n",
    "import os"
   ]
  },
  {
   "cell_type": "code",
   "execution_count": 58,
   "id": "db183970-a261-4728-a72a-1c132c2fcb97",
   "metadata": {},
   "outputs": [
    {
     "data": {
      "text/html": [
       "<div>\n",
       "<style scoped>\n",
       "    .dataframe tbody tr th:only-of-type {\n",
       "        vertical-align: middle;\n",
       "    }\n",
       "\n",
       "    .dataframe tbody tr th {\n",
       "        vertical-align: top;\n",
       "    }\n",
       "\n",
       "    .dataframe thead tr th {\n",
       "        text-align: left;\n",
       "    }\n",
       "</style>\n",
       "<table border=\"1\" class=\"dataframe\">\n",
       "  <thead>\n",
       "    <tr>\n",
       "      <th></th>\n",
       "      <th>가슴 둘레</th>\n",
       "      <th>소매길이</th>\n",
       "      <th>신장</th>\n",
       "      <th>허리 둘레</th>\n",
       "      <th>샅높이</th>\n",
       "      <th>머리 둘레</th>\n",
       "      <th>발 길이</th>\n",
       "      <th>몸무게</th>\n",
       "    </tr>\n",
       "  </thead>\n",
       "  <tbody>\n",
       "    <tr>\n",
       "      <th>0</th>\n",
       "      <td>96.3</td>\n",
       "      <td>92.6</td>\n",
       "      <td>185.5</td>\n",
       "      <td>82.5</td>\n",
       "      <td>83.8</td>\n",
       "      <td>57.1</td>\n",
       "      <td>28.5</td>\n",
       "      <td>73.2</td>\n",
       "    </tr>\n",
       "    <tr>\n",
       "      <th>1</th>\n",
       "      <td>101.9</td>\n",
       "      <td>83.8</td>\n",
       "      <td>167.2</td>\n",
       "      <td>81.2</td>\n",
       "      <td>74.4</td>\n",
       "      <td>55.0</td>\n",
       "      <td>24.2</td>\n",
       "      <td>65.1</td>\n",
       "    </tr>\n",
       "    <tr>\n",
       "      <th>2</th>\n",
       "      <td>99.5</td>\n",
       "      <td>89.6</td>\n",
       "      <td>179.9</td>\n",
       "      <td>99.2</td>\n",
       "      <td>84.2</td>\n",
       "      <td>56.3</td>\n",
       "      <td>28.1</td>\n",
       "      <td>93.2</td>\n",
       "    </tr>\n",
       "    <tr>\n",
       "      <th>3</th>\n",
       "      <td>98.6</td>\n",
       "      <td>85.5</td>\n",
       "      <td>171.4</td>\n",
       "      <td>85.9</td>\n",
       "      <td>76.4</td>\n",
       "      <td>54.5</td>\n",
       "      <td>27.4</td>\n",
       "      <td>71.6</td>\n",
       "    </tr>\n",
       "    <tr>\n",
       "      <th>4</th>\n",
       "      <td>94.7</td>\n",
       "      <td>88.1</td>\n",
       "      <td>176.9</td>\n",
       "      <td>78.3</td>\n",
       "      <td>79.7</td>\n",
       "      <td>58.5</td>\n",
       "      <td>26.5</td>\n",
       "      <td>67.1</td>\n",
       "    </tr>\n",
       "  </tbody>\n",
       "</table>\n",
       "</div>"
      ],
      "text/plain": [
       "   가슴 둘레  소매길이     신장 허리 둘레   샅높이 머리 둘레  발 길이   몸무게\n",
       "0   96.3  92.6  185.5  82.5  83.8  57.1  28.5  73.2\n",
       "1  101.9  83.8  167.2  81.2  74.4  55.0  24.2  65.1\n",
       "2   99.5  89.6  179.9  99.2  84.2  56.3  28.1  93.2\n",
       "3   98.6  85.5  171.4  85.9  76.4  54.5  27.4  71.6\n",
       "4   94.7  88.1  176.9  78.3  79.7  58.5  26.5  67.1"
      ]
     },
     "execution_count": 58,
     "metadata": {},
     "output_type": "execute_result"
    }
   ],
   "source": [
    "data = pd.read_csv(r'pysicalinfo.csv', encoding='euc-kr',low_memory=False)\n",
    "data = data.drop(['순번','측정 일자'],axis=1)\n",
    "data.columns = [['가슴 둘레', '소매길이', '신장', '허리 둘레', '샅높이', '머리 둘레', '발 길이', '몸무게']]\n",
    "data.head()"
   ]
  },
  {
   "cell_type": "code",
   "execution_count": 60,
   "id": "844541a8-a81e-4a3d-9fd8-d6cedf6843b3",
   "metadata": {},
   "outputs": [
    {
     "name": "stdout",
     "output_type": "stream",
     "text": [
      "<class 'pandas.core.frame.DataFrame'>\n",
      "RangeIndex: 167980 entries, 0 to 167979\n",
      "Data columns (total 8 columns):\n",
      " #   Column    Non-Null Count   Dtype  \n",
      "---  ------    --------------   -----  \n",
      " 0   (가슴 둘레,)  167980 non-null  float64\n",
      " 1   (소매길이,)   167980 non-null  float64\n",
      " 2   (신장,)     167980 non-null  float64\n",
      " 3   (허리 둘레,)  167980 non-null  object \n",
      " 4   (샅높이,)    167980 non-null  float64\n",
      " 5   (머리 둘레,)  167980 non-null  float64\n",
      " 6   (발 길이,)   167980 non-null  float64\n",
      " 7   (몸무게,)    167980 non-null  float64\n",
      "dtypes: float64(7), object(1)\n",
      "memory usage: 10.3+ MB\n"
     ]
    }
   ],
   "source": [
    "data.info()"
   ]
  },
  {
   "cell_type": "code",
   "execution_count": 63,
   "id": "869c3fd5-fd32-4f63-89aa-701c5bf78ec7",
   "metadata": {},
   "outputs": [
    {
     "data": {
      "text/html": [
       "<div>\n",
       "<style scoped>\n",
       "    .dataframe tbody tr th:only-of-type {\n",
       "        vertical-align: middle;\n",
       "    }\n",
       "\n",
       "    .dataframe tbody tr th {\n",
       "        vertical-align: top;\n",
       "    }\n",
       "\n",
       "    .dataframe thead tr th {\n",
       "        text-align: left;\n",
       "    }\n",
       "</style>\n",
       "<table border=\"1\" class=\"dataframe\">\n",
       "  <thead>\n",
       "    <tr>\n",
       "      <th></th>\n",
       "      <th>가슴 둘레</th>\n",
       "      <th>소매길이</th>\n",
       "      <th>신장</th>\n",
       "      <th>허리 둘레</th>\n",
       "      <th>샅높이</th>\n",
       "      <th>머리 둘레</th>\n",
       "      <th>발 길이</th>\n",
       "      <th>몸무게</th>\n",
       "    </tr>\n",
       "  </thead>\n",
       "  <tbody>\n",
       "    <tr>\n",
       "      <th>0</th>\n",
       "      <td>96.3</td>\n",
       "      <td>92.6</td>\n",
       "      <td>185.5</td>\n",
       "      <td>82.5</td>\n",
       "      <td>83.8</td>\n",
       "      <td>57.1</td>\n",
       "      <td>28.5</td>\n",
       "      <td>73.2</td>\n",
       "    </tr>\n",
       "    <tr>\n",
       "      <th>1</th>\n",
       "      <td>101.9</td>\n",
       "      <td>83.8</td>\n",
       "      <td>167.2</td>\n",
       "      <td>81.2</td>\n",
       "      <td>74.4</td>\n",
       "      <td>55.0</td>\n",
       "      <td>24.2</td>\n",
       "      <td>65.1</td>\n",
       "    </tr>\n",
       "    <tr>\n",
       "      <th>2</th>\n",
       "      <td>99.5</td>\n",
       "      <td>89.6</td>\n",
       "      <td>179.9</td>\n",
       "      <td>99.2</td>\n",
       "      <td>84.2</td>\n",
       "      <td>56.3</td>\n",
       "      <td>28.1</td>\n",
       "      <td>93.2</td>\n",
       "    </tr>\n",
       "    <tr>\n",
       "      <th>3</th>\n",
       "      <td>98.6</td>\n",
       "      <td>85.5</td>\n",
       "      <td>171.4</td>\n",
       "      <td>85.9</td>\n",
       "      <td>76.4</td>\n",
       "      <td>54.5</td>\n",
       "      <td>27.4</td>\n",
       "      <td>71.6</td>\n",
       "    </tr>\n",
       "    <tr>\n",
       "      <th>4</th>\n",
       "      <td>94.7</td>\n",
       "      <td>88.1</td>\n",
       "      <td>176.9</td>\n",
       "      <td>78.3</td>\n",
       "      <td>79.7</td>\n",
       "      <td>58.5</td>\n",
       "      <td>26.5</td>\n",
       "      <td>67.1</td>\n",
       "    </tr>\n",
       "  </tbody>\n",
       "</table>\n",
       "</div>"
      ],
      "text/plain": [
       "   가슴 둘레  소매길이     신장 허리 둘레   샅높이 머리 둘레  발 길이   몸무게\n",
       "0   96.3  92.6  185.5  82.5  83.8  57.1  28.5  73.2\n",
       "1  101.9  83.8  167.2  81.2  74.4  55.0  24.2  65.1\n",
       "2   99.5  89.6  179.9  99.2  84.2  56.3  28.1  93.2\n",
       "3   98.6  85.5  171.4  85.9  76.4  54.5  27.4  71.6\n",
       "4   94.7  88.1  176.9  78.3  79.7  58.5  26.5  67.1"
      ]
     },
     "execution_count": 63,
     "metadata": {},
     "output_type": "execute_result"
    }
   ],
   "source": [
    "data = data.apply(pd.to_numeric, errors='coerce')\n",
    "data.head()"
   ]
  },
  {
   "cell_type": "code",
   "execution_count": 66,
   "id": "416e528f-bc28-46ce-8200-cdc4c7c9268e",
   "metadata": {},
   "outputs": [
    {
     "name": "stdout",
     "output_type": "stream",
     "text": [
      "<class 'pandas.core.frame.DataFrame'>\n",
      "RangeIndex: 167980 entries, 0 to 167979\n",
      "Data columns (total 8 columns):\n",
      " #   Column    Non-Null Count   Dtype  \n",
      "---  ------    --------------   -----  \n",
      " 0   (가슴 둘레,)  167980 non-null  float64\n",
      " 1   (소매길이,)   167980 non-null  float64\n",
      " 2   (신장,)     167980 non-null  float64\n",
      " 3   (허리 둘레,)  135669 non-null  float64\n",
      " 4   (샅높이,)    167980 non-null  float64\n",
      " 5   (머리 둘레,)  167980 non-null  float64\n",
      " 6   (발 길이,)   167980 non-null  float64\n",
      " 7   (몸무게,)    167980 non-null  float64\n",
      "dtypes: float64(8)\n",
      "memory usage: 10.3 MB\n"
     ]
    }
   ],
   "source": [
    "data.info()"
   ]
  },
  {
   "cell_type": "code",
   "execution_count": 69,
   "id": "3cd8611f-04fa-4f71-994c-fd73fd54ddb4",
   "metadata": {},
   "outputs": [
    {
     "name": "stdout",
     "output_type": "stream",
     "text": [
      "<class 'pandas.core.frame.DataFrame'>\n",
      "Index: 135669 entries, 0 to 135668\n",
      "Data columns (total 8 columns):\n",
      " #   Column    Non-Null Count   Dtype  \n",
      "---  ------    --------------   -----  \n",
      " 0   (가슴 둘레,)  135669 non-null  float64\n",
      " 1   (소매길이,)   135669 non-null  float64\n",
      " 2   (신장,)     135669 non-null  float64\n",
      " 3   (허리 둘레,)  135669 non-null  float64\n",
      " 4   (샅높이,)    135669 non-null  float64\n",
      " 5   (머리 둘레,)  135669 non-null  float64\n",
      " 6   (발 길이,)   135669 non-null  float64\n",
      " 7   (몸무게,)    135669 non-null  float64\n",
      "dtypes: float64(8)\n",
      "memory usage: 9.3 MB\n"
     ]
    }
   ],
   "source": [
    "data = data.dropna()\n",
    "data.info()"
   ]
  },
  {
   "cell_type": "code",
   "execution_count": 126,
   "id": "b70b883e-9fd8-4e81-ae2a-4542913007e3",
   "metadata": {},
   "outputs": [],
   "source": [
    "# 데이터 전처리\n",
    "scaler = MinMaxScaler()\n",
    "train_x = pd.DataFrame(scaler.fit_transform(train_x), columns=train_x.columns, index=train_x.index)\n",
    "test_x = pd.DataFrame(scaler.transform(test_x), columns=test_x.columns, index=test_x.index)"
   ]
  },
  {
   "cell_type": "code",
   "execution_count": 132,
   "id": "0fbd016b-f61a-40bd-9819-d233aa2bf317",
   "metadata": {},
   "outputs": [],
   "source": [
    "# x는 마지막 컬럼을 제외한 모든 컬럼 (입력값들만)\n",
    "x = data.iloc[:, :-1]  # 마지막 컬럼을 제외한 모든 컬럼\n",
    "scaled_data = scaler.fit_transform(x)  # x만 스케일링\n",
    "\n",
    "# 스케일링된 x를 데이터프레임으로 만들기\n",
    "feature_names = scaler.get_feature_names_out(input_features=x.columns)\n",
    "x = pd.DataFrame(scaled_data, columns=feature_names)\n",
    "\n",
    "# y는 마지막 컬럼 (목표값)\n",
    "y = data.iloc[:, -1]  # 마지막 컬럼을 y로 설정\n",
    "\n"
   ]
  },
  {
   "cell_type": "code",
   "execution_count": 134,
   "id": "6fdc3593-3284-4a9a-a9c0-38f61a2ad94a",
   "metadata": {},
   "outputs": [],
   "source": [
    "train_x, test_x, train_y, test_y = train_test_split(x,y,test_size=0.2, random_state=42)"
   ]
  },
  {
   "cell_type": "code",
   "execution_count": 136,
   "id": "88902b81-bc97-4426-b5b1-420ea54bfa5f",
   "metadata": {},
   "outputs": [
    {
     "name": "stdout",
     "output_type": "stream",
     "text": [
      "(108535, 7)\n",
      "(108535,)\n",
      "(27134, 7)\n",
      "(27134,)\n"
     ]
    }
   ],
   "source": [
    "print(train_x.shape)\n",
    "print(train_y.shape)\n",
    "print(test_x.shape)\n",
    "print(test_y.shape)"
   ]
  },
  {
   "cell_type": "code",
   "execution_count": 138,
   "id": "1e6d0d52-fce2-4dd0-ab50-a013879544f7",
   "metadata": {},
   "outputs": [],
   "source": [
    "# 인공신경망 모델 생성 및 학습\n",
    "model = keras.Sequential([\n",
    "    keras.layers.Dense(7),\n",
    "    keras.layers.Dense(256, activation='relu'),\n",
    "    keras.layers.Dense(256, activation='relu'),\n",
    "    keras.layers.Dense(256, activation='relu'),\n",
    "    keras.layers.Dense(256, activation='relu'),\n",
    "    keras.layers.Dense(1)\n",
    "])"
   ]
  },
  {
   "cell_type": "code",
   "execution_count": 140,
   "id": "0cd09d6a-399c-4b8d-a675-503cafb48141",
   "metadata": {},
   "outputs": [],
   "source": [
    "model.compile(optimizer='adam', loss='mse', metrics=['mae'])"
   ]
  },
  {
   "cell_type": "code",
   "execution_count": 142,
   "id": "8a848ba2-7e7b-4043-b2da-bdcb711c3088",
   "metadata": {},
   "outputs": [
    {
     "name": "stdout",
     "output_type": "stream",
     "text": [
      "Epoch 1/50\n",
      "\u001b[1m3392/3392\u001b[0m \u001b[32m━━━━━━━━━━━━━━━━━━━━\u001b[0m\u001b[37m\u001b[0m \u001b[1m8s\u001b[0m 2ms/step - loss: 207.5909 - mae: 7.0599 - val_loss: 21.3461 - val_mae: 3.5201\n",
      "Epoch 2/50\n",
      "\u001b[1m3392/3392\u001b[0m \u001b[32m━━━━━━━━━━━━━━━━━━━━\u001b[0m\u001b[37m\u001b[0m \u001b[1m6s\u001b[0m 2ms/step - loss: 22.6283 - mae: 3.6068 - val_loss: 20.4467 - val_mae: 3.3997\n",
      "Epoch 3/50\n",
      "\u001b[1m3392/3392\u001b[0m \u001b[32m━━━━━━━━━━━━━━━━━━━━\u001b[0m\u001b[37m\u001b[0m \u001b[1m6s\u001b[0m 2ms/step - loss: 22.8023 - mae: 3.6058 - val_loss: 20.3935 - val_mae: 3.4185\n",
      "Epoch 4/50\n",
      "\u001b[1m3392/3392\u001b[0m \u001b[32m━━━━━━━━━━━━━━━━━━━━\u001b[0m\u001b[37m\u001b[0m \u001b[1m7s\u001b[0m 2ms/step - loss: 22.3421 - mae: 3.5686 - val_loss: 19.8896 - val_mae: 3.3688\n",
      "Epoch 5/50\n",
      "\u001b[1m3392/3392\u001b[0m \u001b[32m━━━━━━━━━━━━━━━━━━━━\u001b[0m\u001b[37m\u001b[0m \u001b[1m6s\u001b[0m 2ms/step - loss: 21.9800 - mae: 3.5385 - val_loss: 22.7106 - val_mae: 3.6698\n",
      "Epoch 6/50\n",
      "\u001b[1m3392/3392\u001b[0m \u001b[32m━━━━━━━━━━━━━━━━━━━━\u001b[0m\u001b[37m\u001b[0m \u001b[1m7s\u001b[0m 2ms/step - loss: 21.9588 - mae: 3.5459 - val_loss: 23.8430 - val_mae: 3.6984\n",
      "Epoch 7/50\n",
      "\u001b[1m3392/3392\u001b[0m \u001b[32m━━━━━━━━━━━━━━━━━━━━\u001b[0m\u001b[37m\u001b[0m \u001b[1m6s\u001b[0m 2ms/step - loss: 22.0246 - mae: 3.5488 - val_loss: 19.7618 - val_mae: 3.3629\n",
      "Epoch 8/50\n",
      "\u001b[1m3392/3392\u001b[0m \u001b[32m━━━━━━━━━━━━━━━━━━━━\u001b[0m\u001b[37m\u001b[0m \u001b[1m7s\u001b[0m 2ms/step - loss: 21.6731 - mae: 3.5191 - val_loss: 21.8874 - val_mae: 3.5884\n",
      "Epoch 9/50\n",
      "\u001b[1m3392/3392\u001b[0m \u001b[32m━━━━━━━━━━━━━━━━━━━━\u001b[0m\u001b[37m\u001b[0m \u001b[1m6s\u001b[0m 2ms/step - loss: 21.5882 - mae: 3.5187 - val_loss: 19.7805 - val_mae: 3.3706\n",
      "Epoch 10/50\n",
      "\u001b[1m3392/3392\u001b[0m \u001b[32m━━━━━━━━━━━━━━━━━━━━\u001b[0m\u001b[37m\u001b[0m \u001b[1m6s\u001b[0m 2ms/step - loss: 21.3496 - mae: 3.4905 - val_loss: 19.6855 - val_mae: 3.3555\n",
      "Epoch 11/50\n",
      "\u001b[1m3392/3392\u001b[0m \u001b[32m━━━━━━━━━━━━━━━━━━━━\u001b[0m\u001b[37m\u001b[0m \u001b[1m7s\u001b[0m 2ms/step - loss: 21.3639 - mae: 3.4778 - val_loss: 19.8521 - val_mae: 3.3649\n",
      "Epoch 12/50\n",
      "\u001b[1m3392/3392\u001b[0m \u001b[32m━━━━━━━━━━━━━━━━━━━━\u001b[0m\u001b[37m\u001b[0m \u001b[1m7s\u001b[0m 2ms/step - loss: 21.1395 - mae: 3.4892 - val_loss: 20.2520 - val_mae: 3.4300\n",
      "Epoch 13/50\n",
      "\u001b[1m3392/3392\u001b[0m \u001b[32m━━━━━━━━━━━━━━━━━━━━\u001b[0m\u001b[37m\u001b[0m \u001b[1m6s\u001b[0m 2ms/step - loss: 20.9363 - mae: 3.4536 - val_loss: 24.2118 - val_mae: 3.8121\n",
      "Epoch 14/50\n",
      "\u001b[1m3392/3392\u001b[0m \u001b[32m━━━━━━━━━━━━━━━━━━━━\u001b[0m\u001b[37m\u001b[0m \u001b[1m6s\u001b[0m 2ms/step - loss: 20.9623 - mae: 3.4689 - val_loss: 19.6422 - val_mae: 3.3550\n",
      "Epoch 15/50\n",
      "\u001b[1m3392/3392\u001b[0m \u001b[32m━━━━━━━━━━━━━━━━━━━━\u001b[0m\u001b[37m\u001b[0m \u001b[1m6s\u001b[0m 2ms/step - loss: 21.2560 - mae: 3.4721 - val_loss: 20.9084 - val_mae: 3.4512\n",
      "Epoch 16/50\n",
      "\u001b[1m3392/3392\u001b[0m \u001b[32m━━━━━━━━━━━━━━━━━━━━\u001b[0m\u001b[37m\u001b[0m \u001b[1m6s\u001b[0m 2ms/step - loss: 20.8644 - mae: 3.4668 - val_loss: 23.9902 - val_mae: 3.7347\n",
      "Epoch 17/50\n",
      "\u001b[1m3392/3392\u001b[0m \u001b[32m━━━━━━━━━━━━━━━━━━━━\u001b[0m\u001b[37m\u001b[0m \u001b[1m7s\u001b[0m 2ms/step - loss: 20.9835 - mae: 3.4743 - val_loss: 27.9393 - val_mae: 4.0624\n",
      "Epoch 18/50\n",
      "\u001b[1m3392/3392\u001b[0m \u001b[32m━━━━━━━━━━━━━━━━━━━━\u001b[0m\u001b[37m\u001b[0m \u001b[1m7s\u001b[0m 2ms/step - loss: 20.8486 - mae: 3.4618 - val_loss: 20.4271 - val_mae: 3.4099\n",
      "Epoch 19/50\n",
      "\u001b[1m3392/3392\u001b[0m \u001b[32m━━━━━━━━━━━━━━━━━━━━\u001b[0m\u001b[37m\u001b[0m \u001b[1m7s\u001b[0m 2ms/step - loss: 20.8468 - mae: 3.4363 - val_loss: 19.8193 - val_mae: 3.3620\n"
     ]
    }
   ],
   "source": [
    "early_stop = keras.callbacks.EarlyStopping(monitor='val_loss',patience=5)\n",
    "history = model.fit(train_x,train_y, epochs=50,\n",
    "                    validation_data =(test_x,test_y),\n",
    "                    callbacks=[early_stop])"
   ]
  },
  {
   "cell_type": "code",
   "execution_count": 180,
   "id": "e2a21980-bd1a-4c84-aa96-1f2249920d0e",
   "metadata": {},
   "outputs": [],
   "source": [
    "# 새로운 데이터 예측\n",
    "def predict_new_data(new_data):\n",
    "    # 입력 데이터 전처리\n",
    "    new_data_scaled = scaler.transform(new_data)  # MinMaxScaler를 사용하여 전처리\n",
    "    # 예측 수행\n",
    "    prediction = model.predict(new_data_scaled)\n",
    "    # 예측값 반환\n",
    "    return prediction\n",
    "\n",
    "def draw_graph(prediction, label, history):\n",
    "    x = prediction / np.max(prediction, axis=0)\n",
    "    y = label / np.max(label, axis=0)\n",
    "\n",
    "    minval = min(np.min(x), np.min(y))\n",
    "    maxval = max(np.max(x), np.max(y))\n",
    "\n",
    "    fig = plt.figure(figsize=(7, 7))\n",
    "    plt.title(\"Regression Result\")\n",
    "    plt.xlabel(\"Ground Truth\")\n",
    "    plt.ylabel(\"AI Predict\")\n",
    "    plt.scatter(x, y)\n",
    "    plt.plot([minval, maxval], [minval, maxval], \"red\")\n",
    "    fig.savefig(\"result.png\")\n",
    "\n",
    "    train_history = history.history[\"loss\"]\n",
    "    validation_history = history.history[\"val_loss\"]\n",
    "    fig = plt.figure(figsize=(7, 7))\n",
    "    plt.title(\"Loss History\")\n",
    "    plt.xlabel(\"EPOCH\")\n",
    "    plt.ylabel(\"LOSS Function\")\n",
    "    plt.plot(train_history, \"red\")\n",
    "    plt.plot(validation_history, 'blue')\n",
    "    fig.savefig(\"train_history.png\")"
   ]
  },
  {
   "cell_type": "code",
   "execution_count": 182,
   "id": "3aaf2253-1970-4b2e-b692-b3b4181330ca",
   "metadata": {},
   "outputs": [
    {
     "name": "stdout",
     "output_type": "stream",
     "text": [
      "\u001b[1m848/848\u001b[0m \u001b[32m━━━━━━━━━━━━━━━━━━━━\u001b[0m\u001b[37m\u001b[0m \u001b[1m1s\u001b[0m 671us/step\n"
     ]
    },
    {
     "data": {
      "image/png": "[encoded data removed]",
      "text/plain": [
       "<Figure size 700x700 with 1 Axes>"
      ]
     },
     "metadata": {},
     "output_type": "display_data"
    },
    {
     "data": {
      "image/png": "[encoded data removed]",
      "text/plain": [
       "<Figure size 700x700 with 1 Axes>"
      ]
     },
     "metadata": {},
     "output_type": "display_data"
    }
   ],
   "source": [
    "prediction = model.predict(test_x)\n",
    "draw_graph(prediction, test_y, history)"
   ]
  },
  {
   "cell_type": "code",
   "execution_count": 201,
   "id": "7161138d-6f84-4e79-beec-4b7da1e62c8a",
   "metadata": {},
   "outputs": [
    {
     "name": "stdout",
     "output_type": "stream",
     "text": [
      "\u001b[1m1/1\u001b[0m \u001b[32m━━━━━━━━━━━━━━━━━━━━\u001b[0m\u001b[37m\u001b[0m \u001b[1m0s\u001b[0m 29ms/step\n",
      "입력값 역변환 결과: [ 6219.6   2095.35  7948.8  10961.7   8123.3    766.     401.4 ]\n",
      "예측 결과: 76.9457\n"
     ]
    }
   ],
   "source": [
    "# 예측 예시 (새로운 데이터 샘플)\n",
    "new_data_sample = np.array([[98, 89.7, 174, 92, 83, 60, 28]])  # 7개의 입력 피처\n",
    "prediction = predict_new_data(new_data_sample)  # 예측 값은 (1,1) 모양이어야 함\n",
    "\n",
    "# 입력값만 포함한 배열\n",
    "input_data = np.array([[98, 89.7, 174, 92, 83, 60, 28]])  # 입력값 배열\n",
    "\n",
    "# 입력값에 대해서만 역변환을 적용\n",
    "result_input = scaler.inverse_transform(input_data)\n",
    "\n",
    "# 예측값만 그대로 출력\n",
    "predicted_value = prediction[0][0]\n",
    "\n",
    "# 결과 출력\n",
    "print(\"입력값 역변환 결과:\", result_input[0])  # 역변환된 입력값 출력\n",
    "print(\"예측 결과:\", predicted_value)  # 예측값 출력\n"
   ]
  },
  {
   "cell_type": "code",
   "execution_count": null,
   "id": "ff739d6e-0ae3-4ee6-ac12-9df489a9379f",
   "metadata": {},
   "outputs": [],
   "source": []
  }
 ],
 "metadata": {
  "kernelspec": {
   "display_name": "Python 3 (ipykernel)",
   "language": "python",
   "name": "python3"
  },
  "language_info": {
   "codemirror_mode": {
    "name": "ipython",
    "version": 3
   },
   "file_extension": ".py",
   "mimetype": "text/x-python",
   "name": "python",
   "nbconvert_exporter": "python",
   "pygments_lexer": "ipython3",
   "version": "3.12.7"
  }
 },
 "nbformat": 4,
 "nbformat_minor": 5
}
