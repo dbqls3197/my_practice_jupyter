{
 "cells": [
  {
   "cell_type": "markdown",
   "id": "5aa5e7c7-c759-4ef6-b92f-13097ae9f05e",
   "metadata": {},
   "source": [
    "### 유전자 분석 암진단\n",
    "- 유방암(TCGA_BRCA), 대장암(TCGA_COAD), 페선암(TCGA_LUAD), 갑상선암(TCGA_THCA)"
   ]
  },
  {
   "cell_type": "code",
   "execution_count": 249,
   "id": "b82da47c-72f1-4c13-ba07-585f3d8020f9",
   "metadata": {},
   "outputs": [],
   "source": [
    "from tensorflow import keras\n",
    "import numpy as np\n",
    "import random\n",
    "import os\n",
    "from matplotlib import pyplot as plt"
   ]
  },
  {
   "cell_type": "code",
   "execution_count": 251,
   "id": "ccc8711d-ae50-4adb-a3fb-56638c0e778b",
   "metadata": {},
   "outputs": [],
   "source": [
    "class DataReader():\n",
    "    def __init__(self):\n",
    "\n",
    "        self.label = []\n",
    "        \n",
    "        self.train_x = []\n",
    "        self.train_y = []\n",
    "        self.test_x = []\n",
    "        self.test_y = []\n",
    "\n",
    "        self.read_data()\n",
    "\n",
    "    def read_data(self):\n",
    "        # 유방암(TCGA_BRCA), 대장암(TCGA_COAD), 페선암(TCGA_LUAD), 갑상선암(TCGA_THCA)\n",
    "        files = ['TCGA_BRCA.csv', 'TCGA_COAD.csv', 'TCGA_LUAD.csv', 'TCGA_THCA.csv']\n",
    "        data = []\n",
    "\n",
    "        for i, file in enumerate(files):\n",
    "            book = np.loadtxt(file, delimiter=',', dtype=np.float32).transpose() # 행열 전환\n",
    "            self.label.append(file[:-4])\n",
    "\n",
    "            for el in book:\n",
    "                data.append((el/ np.max(el), i)) \n",
    "\n",
    "        random.shuffle(data)\n",
    "\n",
    "        for i, el in enumerate(data):\n",
    "            if i < 0.8*len(data):\n",
    "                self.train_x.append(el[0])\n",
    "                self.train_y.append(el[1])\n",
    "            else:\n",
    "                self.test_x.append(el[0])\n",
    "                self.test_y.append(el[1])\n",
    "\n",
    "        self.train_x = np.asarray(self.train_x)\n",
    "        self.train_y = np.asarray(self.train_y)\n",
    "        self.test_x = np.asarray(self.test_x)\n",
    "        self.test_y = np.asarray(self.test_y)\n",
    "\n",
    "        print('\\n\\nData Read Done!')\n",
    "        print('Training x Size : ' + str(self.train_x.shape))\n",
    "        print('Training y Size : ' + str(self.train_y.shape))\n",
    "        print('Test x Size : ' + str(self.test_x.shape))\n",
    "        print('Test x Size : ' + str(self.test_y.shape) + '\\n\\n')\n",
    "        \n",
    "        \n",
    "        "
   ]
  },
  {
   "cell_type": "code",
   "execution_count": 253,
   "id": "abfb6f1e-6769-457b-b40a-4ccffec4d809",
   "metadata": {},
   "outputs": [
    {
     "name": "stdout",
     "output_type": "stream",
     "text": [
      "\n",
      "\n",
      "Data Read Done!\n",
      "Training x Size : (2324, 20000)\n",
      "Training y Size : (2324,)\n",
      "Test x Size : (581, 20000)\n",
      "Test x Size : (581,)\n",
      "\n",
      "\n"
     ]
    }
   ],
   "source": [
    "dr = DataReader()"
   ]
  },
  {
   "cell_type": "code",
   "execution_count": 265,
   "id": "8f0a851d-2888-4bfb-8358-ed34b6f07ce3",
   "metadata": {},
   "outputs": [],
   "source": [
    "model = keras.Sequential([\n",
    "    keras.layers.Dense(20000),\n",
    "    keras.layers.Dense(2048, activation='relu'),\n",
    "    keras.layers.Dropout(rate=0.5),\n",
    "    keras.layers.Dense(256,activation='relu'),\n",
    "    keras.layers.Dropout(rate=0.5),\n",
    "    keras.layers.Dense(4, activation='softmax')\n",
    "])\n",
    "model.compile(optimizer='adam', metrics=['accuracy'],\n",
    "              loss='sparse_categorical_crossentropy')\n"
   ]
  },
  {
   "cell_type": "code",
   "execution_count": 267,
   "id": "a6ee322e-272d-4453-bdda-58c173b12072",
   "metadata": {},
   "outputs": [
    {
     "name": "stdout",
     "output_type": "stream",
     "text": [
      "\n",
      "\n",
      "********* TRAINING START ****************\n",
      "Epoch 1/20\n",
      "\u001b[1m73/73\u001b[0m \u001b[32m━━━━━━━━━━━━━━━━━━━━\u001b[0m\u001b[37m\u001b[0m \u001b[1m308s\u001b[0m 4s/step - accuracy: 0.7134 - loss: 1.3857 - val_accuracy: 0.9501 - val_loss: 0.3233\n",
      "Epoch 2/20\n",
      "\u001b[1m73/73\u001b[0m \u001b[32m━━━━━━━━━━━━━━━━━━━━\u001b[0m\u001b[37m\u001b[0m \u001b[1m255s\u001b[0m 3s/step - accuracy: 0.9829 - loss: 0.1203 - val_accuracy: 0.9570 - val_loss: 0.3670\n",
      "Epoch 3/20\n",
      "\u001b[1m73/73\u001b[0m \u001b[32m━━━━━━━━━━━━━━━━━━━━\u001b[0m\u001b[37m\u001b[0m \u001b[1m257s\u001b[0m 4s/step - accuracy: 0.9816 - loss: 0.1357 - val_accuracy: 0.9862 - val_loss: 0.1817\n",
      "Epoch 4/20\n",
      "\u001b[1m73/73\u001b[0m \u001b[32m━━━━━━━━━━━━━━━━━━━━\u001b[0m\u001b[37m\u001b[0m \u001b[1m251s\u001b[0m 3s/step - accuracy: 0.9914 - loss: 0.0902 - val_accuracy: 0.9862 - val_loss: 0.1674\n",
      "Epoch 5/20\n",
      "\u001b[1m73/73\u001b[0m \u001b[32m━━━━━━━━━━━━━━━━━━━━\u001b[0m\u001b[37m\u001b[0m \u001b[1m249s\u001b[0m 3s/step - accuracy: 0.9885 - loss: 0.1711 - val_accuracy: 0.9914 - val_loss: 0.1647\n",
      "Epoch 6/20\n",
      "\u001b[1m73/73\u001b[0m \u001b[32m━━━━━━━━━━━━━━━━━━━━\u001b[0m\u001b[37m\u001b[0m \u001b[1m249s\u001b[0m 3s/step - accuracy: 0.9872 - loss: 0.3364 - val_accuracy: 0.9931 - val_loss: 0.0899\n",
      "Epoch 7/20\n",
      "\u001b[1m73/73\u001b[0m \u001b[32m━━━━━━━━━━━━━━━━━━━━\u001b[0m\u001b[37m\u001b[0m \u001b[1m249s\u001b[0m 3s/step - accuracy: 0.9882 - loss: 0.2149 - val_accuracy: 0.9966 - val_loss: 0.1727\n",
      "Epoch 8/20\n",
      "\u001b[1m73/73\u001b[0m \u001b[32m━━━━━━━━━━━━━━━━━━━━\u001b[0m\u001b[37m\u001b[0m \u001b[1m248s\u001b[0m 3s/step - accuracy: 0.9924 - loss: 0.2082 - val_accuracy: 0.9191 - val_loss: 5.9330\n",
      "Epoch 9/20\n",
      "\u001b[1m73/73\u001b[0m \u001b[32m━━━━━━━━━━━━━━━━━━━━\u001b[0m\u001b[37m\u001b[0m \u001b[1m247s\u001b[0m 3s/step - accuracy: 0.9854 - loss: 0.5901 - val_accuracy: 0.9811 - val_loss: 0.9262\n",
      "Epoch 10/20\n",
      "\u001b[1m73/73\u001b[0m \u001b[32m━━━━━━━━━━━━━━━━━━━━\u001b[0m\u001b[37m\u001b[0m \u001b[1m250s\u001b[0m 3s/step - accuracy: 0.9863 - loss: 1.1616 - val_accuracy: 0.9948 - val_loss: 0.3700\n",
      "Epoch 11/20\n",
      "\u001b[1m73/73\u001b[0m \u001b[32m━━━━━━━━━━━━━━━━━━━━\u001b[0m\u001b[37m\u001b[0m \u001b[1m244s\u001b[0m 3s/step - accuracy: 0.9834 - loss: 1.1178 - val_accuracy: 0.9983 - val_loss: 0.0033\n",
      "Epoch 12/20\n",
      "\u001b[1m73/73\u001b[0m \u001b[32m━━━━━━━━━━━━━━━━━━━━\u001b[0m\u001b[37m\u001b[0m \u001b[1m245s\u001b[0m 3s/step - accuracy: 0.9984 - loss: 0.0416 - val_accuracy: 0.9966 - val_loss: 0.1343\n",
      "Epoch 13/20\n",
      "\u001b[1m73/73\u001b[0m \u001b[32m━━━━━━━━━━━━━━━━━━━━\u001b[0m\u001b[37m\u001b[0m \u001b[1m245s\u001b[0m 3s/step - accuracy: 0.9985 - loss: 0.0814 - val_accuracy: 0.9983 - val_loss: 0.0639\n",
      "Epoch 14/20\n",
      "\u001b[1m73/73\u001b[0m \u001b[32m━━━━━━━━━━━━━━━━━━━━\u001b[0m\u001b[37m\u001b[0m \u001b[1m245s\u001b[0m 3s/step - accuracy: 0.9985 - loss: 0.0169 - val_accuracy: 0.9931 - val_loss: 0.4926\n",
      "Epoch 15/20\n",
      "\u001b[1m73/73\u001b[0m \u001b[32m━━━━━━━━━━━━━━━━━━━━\u001b[0m\u001b[37m\u001b[0m \u001b[1m247s\u001b[0m 3s/step - accuracy: 0.9979 - loss: 0.0098 - val_accuracy: 0.9966 - val_loss: 0.1093\n",
      "Epoch 16/20\n",
      "\u001b[1m73/73\u001b[0m \u001b[32m━━━━━━━━━━━━━━━━━━━━\u001b[0m\u001b[37m\u001b[0m \u001b[1m249s\u001b[0m 3s/step - accuracy: 0.9992 - loss: 0.0267 - val_accuracy: 0.9983 - val_loss: 0.1058\n",
      "Epoch 17/20\n",
      "\u001b[1m73/73\u001b[0m \u001b[32m━━━━━━━━━━━━━━━━━━━━\u001b[0m\u001b[37m\u001b[0m \u001b[1m249s\u001b[0m 3s/step - accuracy: 1.0000 - loss: 0.0024 - val_accuracy: 0.9983 - val_loss: 0.1410\n",
      "Epoch 18/20\n",
      "\u001b[1m73/73\u001b[0m \u001b[32m━━━━━━━━━━━━━━━━━━━━\u001b[0m\u001b[37m\u001b[0m \u001b[1m251s\u001b[0m 3s/step - accuracy: 0.9969 - loss: 0.1992 - val_accuracy: 1.0000 - val_loss: 3.5761e-05\n",
      "Epoch 19/20\n",
      "\u001b[1m73/73\u001b[0m \u001b[32m━━━━━━━━━━━━━━━━━━━━\u001b[0m\u001b[37m\u001b[0m \u001b[1m248s\u001b[0m 3s/step - accuracy: 0.9996 - loss: 0.0031 - val_accuracy: 0.9983 - val_loss: 0.0015\n",
      "Epoch 20/20\n",
      "\u001b[1m73/73\u001b[0m \u001b[32m━━━━━━━━━━━━━━━━━━━━\u001b[0m\u001b[37m\u001b[0m \u001b[1m252s\u001b[0m 3s/step - accuracy: 0.9999 - loss: 0.0032 - val_accuracy: 0.9983 - val_loss: 0.0283\n"
     ]
    }
   ],
   "source": [
    "print('\\n\\n********* TRAINING START ****************')\n",
    "early_stop = keras.callbacks.EarlyStopping(monitor='val_loss',patience=10)\n",
    "history = model.fit(dr.train_x, dr.train_y, epochs=20,\n",
    "                    validation_data=(dr.test_x,dr.test_y),\n",
    "                    callbacks=[early_stop])"
   ]
  },
  {
   "cell_type": "code",
   "execution_count": null,
   "id": "88280c1a-17af-4dc5-8cb5-cdb8a9c811cd",
   "metadata": {},
   "outputs": [],
   "source": []
  }
 ],
 "metadata": {
  "kernelspec": {
   "display_name": "Python 3 (ipykernel)",
   "language": "python",
   "name": "python3"
  },
  "language_info": {
   "codemirror_mode": {
    "name": "ipython",
    "version": 3
   },
   "file_extension": ".py",
   "mimetype": "text/x-python",
   "name": "python",
   "nbconvert_exporter": "python",
   "pygments_lexer": "ipython3",
   "version": "3.12.7"
  }
 },
 "nbformat": 4,
 "nbformat_minor": 5
}
